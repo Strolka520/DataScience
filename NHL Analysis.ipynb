{
  "cells": [
    {
      "metadata": {
        "_uuid": "8f2839f25d086af736a60e9eeb907d3b93b6e0e5",
        "_cell_guid": "b1076dfc-b9ad-4769-8c92-a6c4dae69d19",
        "trusted": true
      },
      "cell_type": "code",
      "source": "import numpy as np # linear algebra\nimport pandas as pd # data processing, CSV file I/O (e.g. pd.read_csv)\nimport os\nimport matplotlib.pyplot as plt\nimport seaborn as sns\nplt.style.use('ggplot')\nprint(os.listdir(\"../input\"))\n%matplotlib inline",
      "execution_count": null,
      "outputs": []
    },
    {
      "metadata": {
        "_cell_guid": "79c7e3d0-c299-4dcb-8224-4455121ee9b0",
        "_uuid": "d629ff2d2480ee46fbb7e2d37f6b5fab8052498a",
        "trusted": true
      },
      "cell_type": "code",
      "source": "team_df = pd.read_csv('../input/team_info.csv')",
      "execution_count": null,
      "outputs": []
    },
    {
      "metadata": {
        "trusted": true,
        "_uuid": "a0d0a9040599841227c8ee4fc920a6348175d59d"
      },
      "cell_type": "code",
      "source": "team_df.head()",
      "execution_count": null,
      "outputs": []
    },
    {
      "metadata": {
        "trusted": true,
        "_uuid": "fa9b73986315df0c97c45bf837e4c856adb23ee3"
      },
      "cell_type": "code",
      "source": "#game_df.head()",
      "execution_count": null,
      "outputs": []
    },
    {
      "metadata": {
        "trusted": true,
        "_uuid": "883181bd0fe745fa233475e8eca6ea1d6a915809"
      },
      "cell_type": "code",
      "source": "\"\"\"\nAdd home and away team names.\n\"\"\"\ngame_df = pd.read_csv('../input/game.csv')\ngame_df = game_df.merge(team_df[['team_id', 'teamName']],\n              left_on='home_team_id', right_on='team_id') \\\n    .merge(team_df[['team_id', 'teamName']], left_on='away_team_id',\n           right_on='team_id', suffixes=('home','away'))",
      "execution_count": null,
      "outputs": []
    },
    {
      "metadata": {
        "trusted": true,
        "_uuid": "cd96c74e7cc540ae52f5e2a5aabf9171f44741a9"
      },
      "cell_type": "code",
      "source": "game_df.head()",
      "execution_count": null,
      "outputs": []
    },
    {
      "metadata": {
        "_uuid": "50eec63775c47a728c7ca67fdb7503189c0347a3"
      },
      "cell_type": "markdown",
      "source": "# Distribution of Goals\nThe distribution of home goals had a higher mean than away goals. \"Home ice advantage?\""
    },
    {
      "metadata": {
        "trusted": true,
        "_uuid": "9625b601e528cef3cb57d02687e38a1335e7bb87"
      },
      "cell_type": "code",
      "source": "game_df[['away_goals','home_goals']].plot(kind='hist', figsize=(15,5), bins=10, alpha=0.5, title='Distribution of Home vs. Away Goals')",
      "execution_count": null,
      "outputs": []
    },
    {
      "metadata": {
        "_uuid": "aef3c555876db3e1b7405d7855d95baa7d30fb28"
      },
      "cell_type": "markdown",
      "source": "# Average Goals per Team\n"
    },
    {
      "metadata": {
        "trusted": true,
        "_uuid": "577be401120f5a324550276b568c10e8d260fdd9"
      },
      "cell_type": "code",
      "source": "game_df.groupby('teamNamehome').mean()['home_goals'] \\\n    .sort_values() \\\n    .plot(kind='barh', figsize=(15, 8), title='Average Goals Scored in Home Games')\nplt.show()\ngame_df.groupby('teamNameaway').mean()['away_goals'] \\\n    .sort_values() \\\n    .plot(kind='barh', figsize=(15, 8), title='Average Goals Scored in Away Games')\nplt.show()",
      "execution_count": null,
      "outputs": []
    },
    {
      "metadata": {
        "_uuid": "8827de517f3778e53bd7968e4bf12088f1595845"
      },
      "cell_type": "markdown",
      "source": "# Average Goals Allowed per Team"
    },
    {
      "metadata": {
        "trusted": true,
        "_uuid": "3b2763d93bfbcc6a5968bf171336636eff464a5b"
      },
      "cell_type": "code",
      "source": "game_df.groupby('teamNamehome').mean()['away_goals'] \\\n    .sort_values() \\\n    .plot(kind='barh', figsize=(15, 8), title='Average Goals Allowed in Home Games')\nplt.show()\ngame_df.groupby('teamNameaway').mean()['home_goals'] \\\n    .sort_values() \\\n    .plot(kind='barh', figsize=(15, 8), title='Average Goals Allowed in Away Games')\nplt.show()",
      "execution_count": null,
      "outputs": []
    },
    {
      "metadata": {
        "_uuid": "99c309ecd34c5f0db408d8994d062a87b47e853f"
      },
      "cell_type": "markdown",
      "source": "# Distribution of Point Differential\n\nHow much do teams usually win/lose by? Point differential is computed as:\n`point_diff` = `home team goals` - `away team goals`"
    },
    {
      "metadata": {
        "trusted": true,
        "_uuid": "4613baa403cd335e8a80d6d0898d12937729b346"
      },
      "cell_type": "code",
      "source": "game_df['point_diff'] = game_df['home_goals'] - game_df['away_goals']",
      "execution_count": null,
      "outputs": []
    },
    {
      "metadata": {
        "trusted": true,
        "_uuid": "ca6d4b3c3a709959b2b492ff2f9614899bf2acf7"
      },
      "cell_type": "code",
      "source": "game_df['point_diff'].plot(kind='hist',\n                           bins=18,\n                           title='NHL Point Differential (Negative Home team Loses, Positive Home team Wins)',\n                           xlim=(-10,10))",
      "execution_count": null,
      "outputs": []
    },
    {
      "metadata": {
        "_uuid": "da81ff0c9a9c02208c968b1f8d9af2917f1345ee"
      },
      "cell_type": "markdown",
      "source": "# Biggest Blowout"
    },
    {
      "metadata": {
        "trusted": true,
        "_uuid": "f99ab00a2f4386c769fcdc12e3248816b9b96e64"
      },
      "cell_type": "code",
      "source": "#Biggest Blowout was by 10 points\ngame_df['point_diff'].abs().max()",
      "execution_count": null,
      "outputs": []
    },
    {
      "metadata": {
        "trusted": true,
        "_uuid": "a5b9babfeeb6a226e29b096cd567fc0dfe64020c"
      },
      "cell_type": "code",
      "source": "# Blowout game:\ngame_df.loc[game_df['point_diff'] == 10]",
      "execution_count": null,
      "outputs": []
    },
    {
      "metadata": {
        "_uuid": "31adb6c17a77657e46e7c256f202995ed82aa5fd"
      },
      "cell_type": "markdown",
      "source": "Ouch that was a blowout. \nHere are the video highlights in case you were wondering how it happened: https://www.nhl.com/bluejackets/video/recap-mtl-0-cbj-10/t-283041746/c-46026003"
    },
    {
      "metadata": {
        "_uuid": "7a326aaa5b38fa96be03a1c671beb7e92e6ead42"
      },
      "cell_type": "markdown",
      "source": "Lets define game types as:\n- Blowout (abs point diff >= 3 points)\n- Normal Game (win > 2 points)\n- Tight Game (win by 1 point)"
    },
    {
      "metadata": {
        "trusted": true,
        "_uuid": "9d4144129f946c5f9a83d173a77f35a821db88e4"
      },
      "cell_type": "code",
      "source": "game_df['point_diff_type'] = game_df['point_diff'].abs().apply(lambda x: 'Blowout' if x>=3 else ('Normal' if x>=2 else 'Tight'))",
      "execution_count": null,
      "outputs": []
    },
    {
      "metadata": {
        "trusted": true,
        "_uuid": "f88a4cb9d1eeb3ad7952a831e7d0e8b3eaea1364"
      },
      "cell_type": "code",
      "source": "# Create one dataframe with the point \npoint_diff_team = pd.concat([game_df[['teamNamehome','point_diff_type','point_diff','date_time']].rename(columns={'teamNamehome':'team'}),\n    game_df[['teamNameaway','point_diff_type','point_diff','date_time']].rename(columns={'teamNameaway':'team'})])",
      "execution_count": null,
      "outputs": []
    },
    {
      "metadata": {
        "trusted": true,
        "_uuid": "4bf2d269b812e8282b722126b5b5779132238d34"
      },
      "cell_type": "code",
      "source": "point_diff_team['date_time'] = pd.to_datetime(point_diff_team['date_time'])",
      "execution_count": null,
      "outputs": []
    },
    {
      "metadata": {
        "trusted": true,
        "_uuid": "e4a1101eaff67c0574b741d10415a86870804912"
      },
      "cell_type": "code",
      "source": "for team, data in point_diff_team.groupby('team'):\n    data.groupby(data['date_time'].dt.year).mean()['point_diff'].plot(kind='line', title='{} Average Point Diff By Year'.format(team), figsize=(15,2))\n    plt.show()",
      "execution_count": null,
      "outputs": []
    },
    {
      "metadata": {
        "_uuid": "75686d47d26ada375906d4412348678af5eecfba"
      },
      "cell_type": "markdown",
      "source": "# TODO\n- Better metrics\n- Figure out how to make plot colors = team colors\n- More fun stuff\n\nGO WINGS!"
    },
    {
      "metadata": {
        "_uuid": "5f7f2e9fb19314dbdcbe081f06c2f9cbb64ceae8"
      },
      "cell_type": "markdown",
      "source": "# K Nearest Neighbors"
    },
    {
      "metadata": {
        "trusted": true,
        "_uuid": "1857923858f797d101dfc2d25e879e7e771c9872"
      },
      "cell_type": "code",
      "source": "team_stats_df = pd.read_csv('../input/game_teams_stats.csv')",
      "execution_count": null,
      "outputs": []
    },
    {
      "metadata": {
        "trusted": true,
        "_uuid": "008ef3fd841d18ecba2e789712823d5d02c40c04"
      },
      "cell_type": "code",
      "source": "team_stats_df.head()",
      "execution_count": null,
      "outputs": []
    },
    {
      "metadata": {
        "trusted": true,
        "_uuid": "0f2e6d8c73b7924210fe85f9d6de4a347eeea5c3"
      },
      "cell_type": "code",
      "source": "team_stats_df.describe()",
      "execution_count": null,
      "outputs": []
    },
    {
      "metadata": {
        "trusted": true,
        "_uuid": "cf20cafcc8e2d39ebff3eacce52e1580cdb63955"
      },
      "cell_type": "code",
      "source": "team_stats_df.columns",
      "execution_count": null,
      "outputs": []
    },
    {
      "metadata": {
        "trusted": true,
        "_uuid": "acd88e0e4ae33f62ca0abf5fa8d42ca232fff211"
      },
      "cell_type": "code",
      "source": "team_stats_df.corr()",
      "execution_count": null,
      "outputs": []
    },
    {
      "metadata": {
        "trusted": true,
        "_uuid": "d59e25a613fec1bc1a21e678da1989b05bc47fe5"
      },
      "cell_type": "code",
      "source": "f,ax = plt.subplots(figsize=(20,20))\nsns.heatmap(team_stats_df.corr(), annot = True,linewidths=.2, fmt='.1f', ax=ax)",
      "execution_count": null,
      "outputs": []
    },
    {
      "metadata": {
        "trusted": true,
        "_uuid": "cfedd5e7521a01ef8e4d2ffa8370ef40441e300a"
      },
      "cell_type": "code",
      "source": "sns.distplot(team_stats_df['shots'])",
      "execution_count": null,
      "outputs": []
    },
    {
      "metadata": {
        "trusted": true,
        "_uuid": "99f66534ae25aa7ef2da7507aec448f41bcd7a08"
      },
      "cell_type": "code",
      "source": "sns.distplot(team_stats_df['goals'])",
      "execution_count": null,
      "outputs": []
    },
    {
      "metadata": {
        "trusted": true,
        "_uuid": "593424cfb261882e0ce25190036e9cdc7f99598f"
      },
      "cell_type": "code",
      "source": "#make the 'won' column data binary\nteam_stats_df['won'] = team_stats_df['won']*1\n\nteam_stats_df = pd.concat([team_stats_df, pd.get_dummies(team_stats_df.HoA).rename(columns = '{}_binary'.format)],axis = 1)\nteam_stats_df = pd.concat([team_stats_df, pd.get_dummies(team_stats_df.settled_in).rename(columns = '{}_binary'.format)],axis = 1)\ndf_clean = team_stats_df.drop(['game_id','team_id','HoA','settled_in','head_coach','away_binary','OT_binary','SO_binary'], axis=1)\ndf_clean.head()",
      "execution_count": null,
      "outputs": []
    },
    {
      "metadata": {
        "trusted": true,
        "_uuid": "5951e874a2a30a3f5e1594650dca7ef1f87f3ddf"
      },
      "cell_type": "code",
      "source": "sns.pairplot(df_clean, hue='won')",
      "execution_count": null,
      "outputs": []
    },
    {
      "metadata": {
        "_uuid": "97283e9aa97502ccac0e43f1390af0183f97ca6a"
      },
      "cell_type": "markdown",
      "source": "# Standardize the Variables"
    },
    {
      "metadata": {
        "trusted": true,
        "_uuid": "6ec5f9306be428a12c2a7a576a4bedcdb0c97882"
      },
      "cell_type": "code",
      "source": "from sklearn.preprocessing import StandardScaler",
      "execution_count": null,
      "outputs": []
    },
    {
      "metadata": {
        "trusted": true,
        "_uuid": "ad8b7d9151cc9c61732fc5f369e9aa8743f2ad3a"
      },
      "cell_type": "code",
      "source": "scaler = StandardScaler()\nscaler.fit(df_clean.drop('won',axis=1))\nscaled_features = scaler.transform(df_clean.drop('won',axis=1))\ndf_feat = pd.DataFrame(scaled_features,columns=df_clean.columns[1:])\ndf_feat.head()",
      "execution_count": null,
      "outputs": []
    },
    {
      "metadata": {
        "trusted": true,
        "_uuid": "97bc9884915f11cf725ef00fe82ff4fcf97ae9af"
      },
      "cell_type": "markdown",
      "source": "# Train Test Split"
    },
    {
      "metadata": {
        "trusted": true,
        "_uuid": "53a05edd6ec63fb3cf046bea9ba950b5054d7c14"
      },
      "cell_type": "code",
      "source": "from sklearn.model_selection import train_test_split",
      "execution_count": null,
      "outputs": []
    },
    {
      "metadata": {
        "trusted": true,
        "_uuid": "6baf0a900e6c3748a005f5f52b15111ccb1753a3"
      },
      "cell_type": "code",
      "source": "X = df_feat\ny = df_clean['won']\n\nX_train, X_test, y_train, y_test = train_test_split(X, y, test_size=0.3, random_state=101)",
      "execution_count": null,
      "outputs": []
    },
    {
      "metadata": {
        "_uuid": "f0f0270a387ac951fce6c12356c1af6915debedd"
      },
      "cell_type": "markdown",
      "source": "# Using KNN"
    },
    {
      "metadata": {
        "trusted": true,
        "_uuid": "aa5143e529e5847f17cd9a48ba42c1c1f1b3261d"
      },
      "cell_type": "code",
      "source": "from sklearn.neighbors import KNeighborsClassifier",
      "execution_count": null,
      "outputs": []
    },
    {
      "metadata": {
        "trusted": true,
        "_uuid": "5022d4c2af05e46aca4893de3e32d99d3ab45f65"
      },
      "cell_type": "code",
      "source": "knn = KNeighborsClassifier(n_neighbors=1)",
      "execution_count": null,
      "outputs": []
    },
    {
      "metadata": {
        "trusted": true,
        "_uuid": "26aa1cef58d4e5cf7beca00c758b83d776e1f606"
      },
      "cell_type": "code",
      "source": "knn.fit(X_train,y_train)",
      "execution_count": null,
      "outputs": []
    },
    {
      "metadata": {
        "_uuid": "4a16b7f682d7a32deb75748e46cc06e7606a0f60"
      },
      "cell_type": "markdown",
      "source": "# Predictions and Evaluations"
    },
    {
      "metadata": {
        "trusted": true,
        "_uuid": "12b202e0914e485c5e4fb899733f26a0044903bd"
      },
      "cell_type": "code",
      "source": "pred = knn.predict(X_test)",
      "execution_count": null,
      "outputs": []
    },
    {
      "metadata": {
        "trusted": true,
        "_uuid": "a5e4e32d3df37e11c0f15d8c3aba62648598e433"
      },
      "cell_type": "code",
      "source": "from sklearn.metrics import classification_report,confusion_matrix",
      "execution_count": null,
      "outputs": []
    },
    {
      "metadata": {
        "trusted": true,
        "_uuid": "7a641539bcf30b72a43df47f00427beb4ee278f1"
      },
      "cell_type": "code",
      "source": "print(confusion_matrix(y_test,pred))",
      "execution_count": null,
      "outputs": []
    },
    {
      "metadata": {
        "trusted": true,
        "_uuid": "8bbdd707df2773f61012048fb62d6e3ebaec3a22"
      },
      "cell_type": "code",
      "source": "print(classification_report(y_test,pred))",
      "execution_count": null,
      "outputs": []
    },
    {
      "metadata": {
        "_uuid": "1ca04faa0d9d6d673f7e7e5e4e4f6fa43fc84d0c"
      },
      "cell_type": "markdown",
      "source": "# Choosing a K Value"
    },
    {
      "metadata": {
        "trusted": true,
        "_uuid": "62c4655ddbae9025948717e9ed064b1af71e46c7"
      },
      "cell_type": "code",
      "source": "error_rate = []\n\nfor i in range(1,40):\n    knn = KNeighborsClassifier(n_neighbors=i)\n    knn.fit(X_train,y_train)\n    pred_i = knn.predict(X_test)\n    error_rate.append(np.mean(pred_i != y_test))",
      "execution_count": null,
      "outputs": []
    },
    {
      "metadata": {
        "trusted": true,
        "_uuid": "aeda542e24b80d4782174f1fbdbf2a5eb47296be"
      },
      "cell_type": "code",
      "source": "plt.figure(figsize=(10,6))\nplt.plot(range(1,40),error_rate,color='blue',linestyle='dashed',marker='o',markerfacecolor='red',markersize=10)\nplt.title('Error Rate vs K Value')\nplt.xlabel('K')\nplt.ylabel('Error Rate')",
      "execution_count": null,
      "outputs": []
    },
    {
      "metadata": {
        "_uuid": "7e8eb755cd110e610ccac838614b83c25538a364"
      },
      "cell_type": "markdown",
      "source": "# K = 20"
    },
    {
      "metadata": {
        "trusted": true,
        "_uuid": "805ec274e7ea115ed500dcfa646c3cb8dc25e89e"
      },
      "cell_type": "code",
      "source": "knn = KNeighborsClassifier(n_neighbors=20)\nknn.fit(X_train,y_train)\npred = knn.predict(X_test)\n\nprint(confusion_matrix(y_test,pred))\nprint('\\n')\nprint(classification_report(y_test,pred))",
      "execution_count": null,
      "outputs": []
    },
    {
      "metadata": {
        "trusted": true,
        "_uuid": "3f2ea0027438ef99d6954c637e7d0ae658aa48dc"
      },
      "cell_type": "code",
      "source": "",
      "execution_count": null,
      "outputs": []
    }
  ],
  "metadata": {
    "kernelspec": {
      "display_name": "Python 3",
      "language": "python",
      "name": "python3"
    },
    "language_info": {
      "name": "python",
      "version": "3.6.6",
      "mimetype": "text/x-python",
      "codemirror_mode": {
        "name": "ipython",
        "version": 3
      },
      "pygments_lexer": "ipython3",
      "nbconvert_exporter": "python",
      "file_extension": ".py"
    }
  },
  "nbformat": 4,
  "nbformat_minor": 1
}